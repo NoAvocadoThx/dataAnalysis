{
 "cells": [
  {
   "cell_type": "markdown",
   "metadata": {},
   "source": [
    "# COGS 108 - Final Project"
   ]
  },
  {
   "cell_type": "markdown",
   "metadata": {},
   "source": [
    "## Important\n",
    "\n",
    "- ONE, and only one, member of your group should upload this notebook to TritonED. \n",
    "- Each member of the group will receive the same grade on this assignment. \n",
    "- Keep the file name the same: submit the file 'FinalProject.ipynb'.\n",
    "- Only upload the .ipynb file to TED, do not upload any associted data. Make sure that for cells in which you want graders to see output that these cells have been executed."
   ]
  },
  {
   "cell_type": "code",
   "execution_count": 76,
   "metadata": {
    "scrolled": true
   },
   "outputs": [],
   "source": [
    "# Imports\n",
    "# Display plots directly in the notebook instead of in a new window\n",
    "%matplotlib inline\n",
    "\n",
    "import numpy as np\n",
    "import pandas as pd\n",
    "import matplotlib.pyplot as plt\n",
    "\n",
    "import patsy\n",
    "import statsmodels.api as sm\n",
    "import scipy.stats as stats\n",
    "from scipy.stats import ttest_ind, chisquare, normaltest"
   ]
  },
  {
   "cell_type": "markdown",
   "metadata": {},
   "source": [
    "## Group Members: Fill in the Student IDs of each group member here\n",
    "\n",
    "Replace the lines below to list each persons full student ID, ucsd email and full name.\n",
    "\n",
    "-  A92037564, miz060@ucsd.edu, Mingcheng Zhu\n",
    "-  A92046816, zhw158@ucsd.edu, Zhihao Wang\n",
    "- \n",
    "- \n",
    "\n"
   ]
  },
  {
   "cell_type": "markdown",
   "metadata": {},
   "source": [
    "## Part 1 - Data Wrangling\n",
    "\n",
    "Quoted from Kaggle (As it is a well-written summary of the provided dataset):\n",
    "\n",
    "\"In a PUBG game, up to 100 players start in each match (matchId). Players can be on teams (groupId) which get ranked at the end of the game (winPlacePerc) based on how many other teams are still alive when they are eliminated. In game, players can pick up different munitions, revive downed-but-not-out (knocked) teammates, drive vehicles, swim, run, shoot, and experience all of the consequences -- such as falling too far or running themselves over and eliminating themselves.\"\n",
    "\n",
    "We are provided with a large number of anonymized PUBG game stats, formatted so that each row contains one player's post-game stats. The data comes from matches of all types: solos, duos, squads, and custom; there is no guarantee of there being 100 players per match, nor at most 4 player per group.\n",
    "\n",
    "we use the train_V2.csv dataset from the Kaggle competition: PUBG Finish Placement Prediction\n",
    "https://www.kaggle.com/c/pubg-finish-placement-prediction/data\n",
    "Our dataset and its columns are:\n",
    "\n",
    "- `train_V2.csv`: Contains one row for each player in a specific game. The columns we used are \n",
    "    - `damageDealt`: Total damage dealt. Note: Self inflicted damage is subtracted.\n",
    "    - `kills`: Number of enemy players killed.\n",
    "    - `matchDuration`: Duration of match in seconds.\n",
    "    - `rideDistance`: Total distance traveled in vehicles measured in meters.\n",
    "    - `swimDistance`: Total distance traveled by swimming measured in meters.\n",
    "    - `walkDistance`: Total distance traveled on foot measured in meters.\n",
    "    - `winPlacePerc`: This is a percentile winning placement, where 1 corresponds to 1st place, and 0 corresponds to last place in the match. "
   ]
  },
  {
   "cell_type": "markdown",
   "metadata": {},
   "source": [
    "Load the `train_V2.csv` file into a `pandas` DataFrame named `df`. "
   ]
  },
  {
   "cell_type": "code",
   "execution_count": 77,
   "metadata": {
    "scrolled": true
   },
   "outputs": [],
   "source": [
    "df = pd.read_csv('train_V2.csv',nrows=50000)"
   ]
  },
  {
   "cell_type": "markdown",
   "metadata": {},
   "source": [
    "Drop any rows with missing data."
   ]
  },
  {
   "cell_type": "code",
   "execution_count": 78,
   "metadata": {
    "scrolled": true
   },
   "outputs": [],
   "source": [
    "df = df.dropna(how='any')"
   ]
  },
  {
   "cell_type": "markdown",
   "metadata": {},
   "source": [
    "For our project, the focused data columns are damage dealt, kill numbers, movement data and victory percentage. As result, all irrelavent columns are dropped."
   ]
  },
  {
   "cell_type": "code",
   "execution_count": 79,
   "metadata": {
    "scrolled": true
   },
   "outputs": [],
   "source": [
    "df = df.drop(columns=['Id', 'groupId', 'winPoints','matchId', 'killPlace', 'matchType', 'assists', 'boosts', 'maxPlace', 'DBNOs', 'headshotKills', 'heals', 'killPoints', 'killStreaks', 'longestKill', 'numGroups', 'rankPoints', 'revives', 'roadKills', 'teamKills', 'vehicleDestroys', 'weaponsAcquired'])"
   ]
  },
  {
   "cell_type": "markdown",
   "metadata": {},
   "source": [
    "Player who gets eliminated right after the beginning of the game tends to have fewer movements than those who continue to survive after the initial conflicts. Therefore, to reduce this bias, we only include players whose game duration time (for individual matches) is among the top 75% of all players."
   ]
  },
  {
   "cell_type": "code",
   "execution_count": 80,
   "metadata": {
    "scrolled": false
   },
   "outputs": [
    {
     "data": {
      "text/plain": [
       "count    50000.000000\n",
       "mean      1578.475840\n",
       "std        258.964510\n",
       "min        209.000000\n",
       "25%       1366.000000\n",
       "50%       1437.000000\n",
       "75%       1850.000000\n",
       "max       2218.000000\n",
       "Name: matchDuration, dtype: object"
      ]
     },
     "execution_count": 80,
     "metadata": {},
     "output_type": "execute_result"
    }
   ],
   "source": [
    "df['matchDuration'].describe().apply(lambda x: format(x, 'f'))"
   ]
  },
  {
   "cell_type": "code",
   "execution_count": 81,
   "metadata": {
    "scrolled": true
   },
   "outputs": [],
   "source": [
    "df = df.drop(df.loc[df['matchDuration'] < 1367].index)"
   ]
  },
  {
   "cell_type": "markdown",
   "metadata": {},
   "source": [
    "The below is a overview of our cleaned raw data set."
   ]
  },
  {
   "cell_type": "code",
   "execution_count": 82,
   "metadata": {
    "scrolled": false
   },
   "outputs": [
    {
     "data": {
      "text/html": [
       "<div>\n",
       "<style scoped>\n",
       "    .dataframe tbody tr th:only-of-type {\n",
       "        vertical-align: middle;\n",
       "    }\n",
       "\n",
       "    .dataframe tbody tr th {\n",
       "        vertical-align: top;\n",
       "    }\n",
       "\n",
       "    .dataframe thead th {\n",
       "        text-align: right;\n",
       "    }\n",
       "</style>\n",
       "<table border=\"1\" class=\"dataframe\">\n",
       "  <thead>\n",
       "    <tr style=\"text-align: right;\">\n",
       "      <th></th>\n",
       "      <th>damageDealt</th>\n",
       "      <th>kills</th>\n",
       "      <th>matchDuration</th>\n",
       "      <th>rideDistance</th>\n",
       "      <th>swimDistance</th>\n",
       "      <th>walkDistance</th>\n",
       "      <th>winPlacePerc</th>\n",
       "    </tr>\n",
       "  </thead>\n",
       "  <tbody>\n",
       "    <tr>\n",
       "      <th>1</th>\n",
       "      <td>91.470</td>\n",
       "      <td>0</td>\n",
       "      <td>1777</td>\n",
       "      <td>0.0045</td>\n",
       "      <td>11.040</td>\n",
       "      <td>1434.000</td>\n",
       "      <td>0.6400</td>\n",
       "    </tr>\n",
       "    <tr>\n",
       "      <th>3</th>\n",
       "      <td>32.900</td>\n",
       "      <td>0</td>\n",
       "      <td>1436</td>\n",
       "      <td>0.0000</td>\n",
       "      <td>0.000</td>\n",
       "      <td>202.700</td>\n",
       "      <td>0.1667</td>\n",
       "    </tr>\n",
       "    <tr>\n",
       "      <th>4</th>\n",
       "      <td>100.000</td>\n",
       "      <td>1</td>\n",
       "      <td>1424</td>\n",
       "      <td>0.0000</td>\n",
       "      <td>0.000</td>\n",
       "      <td>49.750</td>\n",
       "      <td>0.1875</td>\n",
       "    </tr>\n",
       "    <tr>\n",
       "      <th>5</th>\n",
       "      <td>100.000</td>\n",
       "      <td>1</td>\n",
       "      <td>1395</td>\n",
       "      <td>0.0000</td>\n",
       "      <td>0.000</td>\n",
       "      <td>34.700</td>\n",
       "      <td>0.0370</td>\n",
       "    </tr>\n",
       "    <tr>\n",
       "      <th>7</th>\n",
       "      <td>8.538</td>\n",
       "      <td>0</td>\n",
       "      <td>1967</td>\n",
       "      <td>2004.0000</td>\n",
       "      <td>0.000</td>\n",
       "      <td>1089.000</td>\n",
       "      <td>0.7368</td>\n",
       "    </tr>\n",
       "    <tr>\n",
       "      <th>8</th>\n",
       "      <td>51.600</td>\n",
       "      <td>0</td>\n",
       "      <td>1375</td>\n",
       "      <td>0.0000</td>\n",
       "      <td>0.000</td>\n",
       "      <td>799.900</td>\n",
       "      <td>0.3704</td>\n",
       "    </tr>\n",
       "    <tr>\n",
       "      <th>9</th>\n",
       "      <td>37.270</td>\n",
       "      <td>0</td>\n",
       "      <td>1930</td>\n",
       "      <td>0.0000</td>\n",
       "      <td>0.000</td>\n",
       "      <td>65.670</td>\n",
       "      <td>0.2143</td>\n",
       "    </tr>\n",
       "    <tr>\n",
       "      <th>10</th>\n",
       "      <td>28.380</td>\n",
       "      <td>0</td>\n",
       "      <td>1811</td>\n",
       "      <td>0.0000</td>\n",
       "      <td>0.000</td>\n",
       "      <td>868.300</td>\n",
       "      <td>0.3929</td>\n",
       "    </tr>\n",
       "    <tr>\n",
       "      <th>11</th>\n",
       "      <td>137.900</td>\n",
       "      <td>0</td>\n",
       "      <td>1384</td>\n",
       "      <td>0.0000</td>\n",
       "      <td>0.000</td>\n",
       "      <td>451.700</td>\n",
       "      <td>0.4043</td>\n",
       "    </tr>\n",
       "    <tr>\n",
       "      <th>12</th>\n",
       "      <td>0.000</td>\n",
       "      <td>0</td>\n",
       "      <td>1774</td>\n",
       "      <td>6639.0000</td>\n",
       "      <td>0.000</td>\n",
       "      <td>2784.000</td>\n",
       "      <td>0.9286</td>\n",
       "    </tr>\n",
       "    <tr>\n",
       "      <th>13</th>\n",
       "      <td>324.200</td>\n",
       "      <td>4</td>\n",
       "      <td>1886</td>\n",
       "      <td>1228.0000</td>\n",
       "      <td>76.840</td>\n",
       "      <td>2050.000</td>\n",
       "      <td>0.8750</td>\n",
       "    </tr>\n",
       "    <tr>\n",
       "      <th>14</th>\n",
       "      <td>122.800</td>\n",
       "      <td>1</td>\n",
       "      <td>1458</td>\n",
       "      <td>1237.0000</td>\n",
       "      <td>60.290</td>\n",
       "      <td>1666.000</td>\n",
       "      <td>0.9000</td>\n",
       "    </tr>\n",
       "    <tr>\n",
       "      <th>16</th>\n",
       "      <td>81.710</td>\n",
       "      <td>1</td>\n",
       "      <td>1882</td>\n",
       "      <td>519.9000</td>\n",
       "      <td>0.000</td>\n",
       "      <td>3674.000</td>\n",
       "      <td>0.7308</td>\n",
       "    </tr>\n",
       "    <tr>\n",
       "      <th>17</th>\n",
       "      <td>254.300</td>\n",
       "      <td>2</td>\n",
       "      <td>1371</td>\n",
       "      <td>2367.0000</td>\n",
       "      <td>15.290</td>\n",
       "      <td>1787.000</td>\n",
       "      <td>0.8211</td>\n",
       "    </tr>\n",
       "    <tr>\n",
       "      <th>20</th>\n",
       "      <td>269.100</td>\n",
       "      <td>2</td>\n",
       "      <td>1890</td>\n",
       "      <td>2734.0000</td>\n",
       "      <td>0.000</td>\n",
       "      <td>1794.000</td>\n",
       "      <td>0.6383</td>\n",
       "    </tr>\n",
       "    <tr>\n",
       "      <th>21</th>\n",
       "      <td>158.700</td>\n",
       "      <td>0</td>\n",
       "      <td>1853</td>\n",
       "      <td>0.0000</td>\n",
       "      <td>0.000</td>\n",
       "      <td>580.100</td>\n",
       "      <td>0.2143</td>\n",
       "    </tr>\n",
       "    <tr>\n",
       "      <th>22</th>\n",
       "      <td>192.300</td>\n",
       "      <td>2</td>\n",
       "      <td>1775</td>\n",
       "      <td>2332.0000</td>\n",
       "      <td>0.000</td>\n",
       "      <td>1264.000</td>\n",
       "      <td>0.7500</td>\n",
       "    </tr>\n",
       "    <tr>\n",
       "      <th>23</th>\n",
       "      <td>1011.000</td>\n",
       "      <td>9</td>\n",
       "      <td>1857</td>\n",
       "      <td>4860.0000</td>\n",
       "      <td>0.000</td>\n",
       "      <td>2727.000</td>\n",
       "      <td>0.9592</td>\n",
       "    </tr>\n",
       "    <tr>\n",
       "      <th>24</th>\n",
       "      <td>327.600</td>\n",
       "      <td>4</td>\n",
       "      <td>1454</td>\n",
       "      <td>0.0000</td>\n",
       "      <td>0.000</td>\n",
       "      <td>3503.000</td>\n",
       "      <td>0.9231</td>\n",
       "    </tr>\n",
       "    <tr>\n",
       "      <th>25</th>\n",
       "      <td>558.600</td>\n",
       "      <td>3</td>\n",
       "      <td>1841</td>\n",
       "      <td>1183.0000</td>\n",
       "      <td>0.000</td>\n",
       "      <td>2711.000</td>\n",
       "      <td>0.8696</td>\n",
       "    </tr>\n",
       "    <tr>\n",
       "      <th>26</th>\n",
       "      <td>44.280</td>\n",
       "      <td>0</td>\n",
       "      <td>1879</td>\n",
       "      <td>0.0000</td>\n",
       "      <td>0.000</td>\n",
       "      <td>15.300</td>\n",
       "      <td>0.1154</td>\n",
       "    </tr>\n",
       "    <tr>\n",
       "      <th>27</th>\n",
       "      <td>381.200</td>\n",
       "      <td>4</td>\n",
       "      <td>1896</td>\n",
       "      <td>1798.0000</td>\n",
       "      <td>0.000</td>\n",
       "      <td>1933.000</td>\n",
       "      <td>0.7234</td>\n",
       "    </tr>\n",
       "    <tr>\n",
       "      <th>29</th>\n",
       "      <td>0.000</td>\n",
       "      <td>0</td>\n",
       "      <td>1530</td>\n",
       "      <td>0.0000</td>\n",
       "      <td>0.000</td>\n",
       "      <td>0.000</td>\n",
       "      <td>0.0000</td>\n",
       "    </tr>\n",
       "    <tr>\n",
       "      <th>30</th>\n",
       "      <td>36.730</td>\n",
       "      <td>0</td>\n",
       "      <td>1901</td>\n",
       "      <td>0.0000</td>\n",
       "      <td>0.000</td>\n",
       "      <td>455.500</td>\n",
       "      <td>0.4255</td>\n",
       "    </tr>\n",
       "    <tr>\n",
       "      <th>31</th>\n",
       "      <td>0.000</td>\n",
       "      <td>0</td>\n",
       "      <td>1371</td>\n",
       "      <td>0.0000</td>\n",
       "      <td>0.000</td>\n",
       "      <td>93.110</td>\n",
       "      <td>0.0667</td>\n",
       "    </tr>\n",
       "    <tr>\n",
       "      <th>32</th>\n",
       "      <td>0.000</td>\n",
       "      <td>0</td>\n",
       "      <td>1913</td>\n",
       "      <td>1154.0000</td>\n",
       "      <td>0.000</td>\n",
       "      <td>1240.000</td>\n",
       "      <td>0.5000</td>\n",
       "    </tr>\n",
       "    <tr>\n",
       "      <th>34</th>\n",
       "      <td>439.900</td>\n",
       "      <td>1</td>\n",
       "      <td>1905</td>\n",
       "      <td>0.0000</td>\n",
       "      <td>0.000</td>\n",
       "      <td>353.500</td>\n",
       "      <td>0.2222</td>\n",
       "    </tr>\n",
       "    <tr>\n",
       "      <th>35</th>\n",
       "      <td>136.900</td>\n",
       "      <td>1</td>\n",
       "      <td>1425</td>\n",
       "      <td>0.0000</td>\n",
       "      <td>0.000</td>\n",
       "      <td>270.700</td>\n",
       "      <td>0.3474</td>\n",
       "    </tr>\n",
       "    <tr>\n",
       "      <th>36</th>\n",
       "      <td>100.000</td>\n",
       "      <td>1</td>\n",
       "      <td>1398</td>\n",
       "      <td>0.0000</td>\n",
       "      <td>61.000</td>\n",
       "      <td>1528.000</td>\n",
       "      <td>0.8462</td>\n",
       "    </tr>\n",
       "    <tr>\n",
       "      <th>37</th>\n",
       "      <td>0.000</td>\n",
       "      <td>0</td>\n",
       "      <td>1518</td>\n",
       "      <td>0.0000</td>\n",
       "      <td>0.000</td>\n",
       "      <td>60.930</td>\n",
       "      <td>0.0889</td>\n",
       "    </tr>\n",
       "    <tr>\n",
       "      <th>...</th>\n",
       "      <td>...</td>\n",
       "      <td>...</td>\n",
       "      <td>...</td>\n",
       "      <td>...</td>\n",
       "      <td>...</td>\n",
       "      <td>...</td>\n",
       "      <td>...</td>\n",
       "    </tr>\n",
       "    <tr>\n",
       "      <th>49959</th>\n",
       "      <td>576.300</td>\n",
       "      <td>4</td>\n",
       "      <td>1894</td>\n",
       "      <td>2481.0000</td>\n",
       "      <td>0.000</td>\n",
       "      <td>4343.000</td>\n",
       "      <td>1.0000</td>\n",
       "    </tr>\n",
       "    <tr>\n",
       "      <th>49960</th>\n",
       "      <td>419.000</td>\n",
       "      <td>3</td>\n",
       "      <td>1903</td>\n",
       "      <td>0.0000</td>\n",
       "      <td>0.000</td>\n",
       "      <td>2188.000</td>\n",
       "      <td>0.7959</td>\n",
       "    </tr>\n",
       "    <tr>\n",
       "      <th>49961</th>\n",
       "      <td>75.000</td>\n",
       "      <td>0</td>\n",
       "      <td>1933</td>\n",
       "      <td>3603.0000</td>\n",
       "      <td>0.000</td>\n",
       "      <td>1370.000</td>\n",
       "      <td>0.3571</td>\n",
       "    </tr>\n",
       "    <tr>\n",
       "      <th>49963</th>\n",
       "      <td>61.290</td>\n",
       "      <td>0</td>\n",
       "      <td>1884</td>\n",
       "      <td>0.0000</td>\n",
       "      <td>0.000</td>\n",
       "      <td>3033.000</td>\n",
       "      <td>0.7021</td>\n",
       "    </tr>\n",
       "    <tr>\n",
       "      <th>49965</th>\n",
       "      <td>100.000</td>\n",
       "      <td>1</td>\n",
       "      <td>1847</td>\n",
       "      <td>0.0000</td>\n",
       "      <td>0.000</td>\n",
       "      <td>306.900</td>\n",
       "      <td>0.2128</td>\n",
       "    </tr>\n",
       "    <tr>\n",
       "      <th>49967</th>\n",
       "      <td>262.800</td>\n",
       "      <td>3</td>\n",
       "      <td>1415</td>\n",
       "      <td>0.0000</td>\n",
       "      <td>0.000</td>\n",
       "      <td>499.900</td>\n",
       "      <td>0.5517</td>\n",
       "    </tr>\n",
       "    <tr>\n",
       "      <th>49969</th>\n",
       "      <td>0.000</td>\n",
       "      <td>0</td>\n",
       "      <td>1371</td>\n",
       "      <td>1111.0000</td>\n",
       "      <td>6.087</td>\n",
       "      <td>1201.000</td>\n",
       "      <td>0.6667</td>\n",
       "    </tr>\n",
       "    <tr>\n",
       "      <th>49970</th>\n",
       "      <td>90.090</td>\n",
       "      <td>0</td>\n",
       "      <td>1791</td>\n",
       "      <td>718.9000</td>\n",
       "      <td>0.000</td>\n",
       "      <td>1154.000</td>\n",
       "      <td>0.4565</td>\n",
       "    </tr>\n",
       "    <tr>\n",
       "      <th>49971</th>\n",
       "      <td>0.000</td>\n",
       "      <td>0</td>\n",
       "      <td>1434</td>\n",
       "      <td>0.0000</td>\n",
       "      <td>0.000</td>\n",
       "      <td>7.568</td>\n",
       "      <td>0.0000</td>\n",
       "    </tr>\n",
       "    <tr>\n",
       "      <th>49972</th>\n",
       "      <td>9.608</td>\n",
       "      <td>1</td>\n",
       "      <td>1368</td>\n",
       "      <td>2098.0000</td>\n",
       "      <td>0.000</td>\n",
       "      <td>970.600</td>\n",
       "      <td>0.6800</td>\n",
       "    </tr>\n",
       "    <tr>\n",
       "      <th>49974</th>\n",
       "      <td>0.000</td>\n",
       "      <td>0</td>\n",
       "      <td>1418</td>\n",
       "      <td>0.0000</td>\n",
       "      <td>0.000</td>\n",
       "      <td>1094.000</td>\n",
       "      <td>0.6774</td>\n",
       "    </tr>\n",
       "    <tr>\n",
       "      <th>49975</th>\n",
       "      <td>24.050</td>\n",
       "      <td>0</td>\n",
       "      <td>1865</td>\n",
       "      <td>3848.0000</td>\n",
       "      <td>0.000</td>\n",
       "      <td>1583.000</td>\n",
       "      <td>0.5000</td>\n",
       "    </tr>\n",
       "    <tr>\n",
       "      <th>49978</th>\n",
       "      <td>82.560</td>\n",
       "      <td>0</td>\n",
       "      <td>1416</td>\n",
       "      <td>0.0000</td>\n",
       "      <td>0.000</td>\n",
       "      <td>11.850</td>\n",
       "      <td>0.0698</td>\n",
       "    </tr>\n",
       "    <tr>\n",
       "      <th>49979</th>\n",
       "      <td>0.000</td>\n",
       "      <td>0</td>\n",
       "      <td>1793</td>\n",
       "      <td>0.0000</td>\n",
       "      <td>0.000</td>\n",
       "      <td>635.200</td>\n",
       "      <td>0.1600</td>\n",
       "    </tr>\n",
       "    <tr>\n",
       "      <th>49980</th>\n",
       "      <td>0.000</td>\n",
       "      <td>0</td>\n",
       "      <td>1760</td>\n",
       "      <td>0.0000</td>\n",
       "      <td>0.000</td>\n",
       "      <td>1658.000</td>\n",
       "      <td>0.5000</td>\n",
       "    </tr>\n",
       "    <tr>\n",
       "      <th>49981</th>\n",
       "      <td>81.480</td>\n",
       "      <td>0</td>\n",
       "      <td>1872</td>\n",
       "      <td>0.0000</td>\n",
       "      <td>0.000</td>\n",
       "      <td>1019.000</td>\n",
       "      <td>0.1481</td>\n",
       "    </tr>\n",
       "    <tr>\n",
       "      <th>49983</th>\n",
       "      <td>73.480</td>\n",
       "      <td>0</td>\n",
       "      <td>1881</td>\n",
       "      <td>0.0000</td>\n",
       "      <td>0.000</td>\n",
       "      <td>113.500</td>\n",
       "      <td>0.0000</td>\n",
       "    </tr>\n",
       "    <tr>\n",
       "      <th>49984</th>\n",
       "      <td>734.100</td>\n",
       "      <td>5</td>\n",
       "      <td>1889</td>\n",
       "      <td>1826.0000</td>\n",
       "      <td>0.000</td>\n",
       "      <td>4002.000</td>\n",
       "      <td>0.8621</td>\n",
       "    </tr>\n",
       "    <tr>\n",
       "      <th>49986</th>\n",
       "      <td>100.000</td>\n",
       "      <td>1</td>\n",
       "      <td>1928</td>\n",
       "      <td>1061.0000</td>\n",
       "      <td>0.000</td>\n",
       "      <td>3149.000</td>\n",
       "      <td>0.7826</td>\n",
       "    </tr>\n",
       "    <tr>\n",
       "      <th>49987</th>\n",
       "      <td>0.000</td>\n",
       "      <td>0</td>\n",
       "      <td>1816</td>\n",
       "      <td>0.0000</td>\n",
       "      <td>0.000</td>\n",
       "      <td>417.200</td>\n",
       "      <td>0.2759</td>\n",
       "    </tr>\n",
       "    <tr>\n",
       "      <th>49988</th>\n",
       "      <td>3.700</td>\n",
       "      <td>1</td>\n",
       "      <td>1371</td>\n",
       "      <td>0.0000</td>\n",
       "      <td>0.000</td>\n",
       "      <td>570.400</td>\n",
       "      <td>0.5000</td>\n",
       "    </tr>\n",
       "    <tr>\n",
       "      <th>49990</th>\n",
       "      <td>37.120</td>\n",
       "      <td>0</td>\n",
       "      <td>2045</td>\n",
       "      <td>5201.0000</td>\n",
       "      <td>0.000</td>\n",
       "      <td>2132.000</td>\n",
       "      <td>0.7241</td>\n",
       "    </tr>\n",
       "    <tr>\n",
       "      <th>49991</th>\n",
       "      <td>0.000</td>\n",
       "      <td>0</td>\n",
       "      <td>1893</td>\n",
       "      <td>0.0000</td>\n",
       "      <td>0.000</td>\n",
       "      <td>70.290</td>\n",
       "      <td>0.0000</td>\n",
       "    </tr>\n",
       "    <tr>\n",
       "      <th>49992</th>\n",
       "      <td>58.110</td>\n",
       "      <td>0</td>\n",
       "      <td>1889</td>\n",
       "      <td>0.0000</td>\n",
       "      <td>0.000</td>\n",
       "      <td>520.100</td>\n",
       "      <td>0.7407</td>\n",
       "    </tr>\n",
       "    <tr>\n",
       "      <th>49993</th>\n",
       "      <td>447.500</td>\n",
       "      <td>4</td>\n",
       "      <td>1380</td>\n",
       "      <td>0.0000</td>\n",
       "      <td>7.574</td>\n",
       "      <td>2907.000</td>\n",
       "      <td>0.8462</td>\n",
       "    </tr>\n",
       "    <tr>\n",
       "      <th>49994</th>\n",
       "      <td>272.700</td>\n",
       "      <td>2</td>\n",
       "      <td>1399</td>\n",
       "      <td>475.4000</td>\n",
       "      <td>30.100</td>\n",
       "      <td>2276.000</td>\n",
       "      <td>0.9570</td>\n",
       "    </tr>\n",
       "    <tr>\n",
       "      <th>49996</th>\n",
       "      <td>0.000</td>\n",
       "      <td>0</td>\n",
       "      <td>1859</td>\n",
       "      <td>819.3000</td>\n",
       "      <td>0.000</td>\n",
       "      <td>1936.000</td>\n",
       "      <td>0.8333</td>\n",
       "    </tr>\n",
       "    <tr>\n",
       "      <th>49997</th>\n",
       "      <td>0.000</td>\n",
       "      <td>0</td>\n",
       "      <td>1380</td>\n",
       "      <td>0.0000</td>\n",
       "      <td>0.000</td>\n",
       "      <td>7.649</td>\n",
       "      <td>0.0000</td>\n",
       "    </tr>\n",
       "    <tr>\n",
       "      <th>49998</th>\n",
       "      <td>0.000</td>\n",
       "      <td>0</td>\n",
       "      <td>1869</td>\n",
       "      <td>0.0000</td>\n",
       "      <td>0.000</td>\n",
       "      <td>78.830</td>\n",
       "      <td>0.0957</td>\n",
       "    </tr>\n",
       "    <tr>\n",
       "      <th>49999</th>\n",
       "      <td>4.128</td>\n",
       "      <td>0</td>\n",
       "      <td>1888</td>\n",
       "      <td>6668.0000</td>\n",
       "      <td>0.000</td>\n",
       "      <td>870.000</td>\n",
       "      <td>0.5172</td>\n",
       "    </tr>\n",
       "  </tbody>\n",
       "</table>\n",
       "<p>37460 rows × 7 columns</p>\n",
       "</div>"
      ],
      "text/plain": [
       "       damageDealt  kills  matchDuration  rideDistance  swimDistance  \\\n",
       "1           91.470      0           1777        0.0045        11.040   \n",
       "3           32.900      0           1436        0.0000         0.000   \n",
       "4          100.000      1           1424        0.0000         0.000   \n",
       "5          100.000      1           1395        0.0000         0.000   \n",
       "7            8.538      0           1967     2004.0000         0.000   \n",
       "8           51.600      0           1375        0.0000         0.000   \n",
       "9           37.270      0           1930        0.0000         0.000   \n",
       "10          28.380      0           1811        0.0000         0.000   \n",
       "11         137.900      0           1384        0.0000         0.000   \n",
       "12           0.000      0           1774     6639.0000         0.000   \n",
       "13         324.200      4           1886     1228.0000        76.840   \n",
       "14         122.800      1           1458     1237.0000        60.290   \n",
       "16          81.710      1           1882      519.9000         0.000   \n",
       "17         254.300      2           1371     2367.0000        15.290   \n",
       "20         269.100      2           1890     2734.0000         0.000   \n",
       "21         158.700      0           1853        0.0000         0.000   \n",
       "22         192.300      2           1775     2332.0000         0.000   \n",
       "23        1011.000      9           1857     4860.0000         0.000   \n",
       "24         327.600      4           1454        0.0000         0.000   \n",
       "25         558.600      3           1841     1183.0000         0.000   \n",
       "26          44.280      0           1879        0.0000         0.000   \n",
       "27         381.200      4           1896     1798.0000         0.000   \n",
       "29           0.000      0           1530        0.0000         0.000   \n",
       "30          36.730      0           1901        0.0000         0.000   \n",
       "31           0.000      0           1371        0.0000         0.000   \n",
       "32           0.000      0           1913     1154.0000         0.000   \n",
       "34         439.900      1           1905        0.0000         0.000   \n",
       "35         136.900      1           1425        0.0000         0.000   \n",
       "36         100.000      1           1398        0.0000        61.000   \n",
       "37           0.000      0           1518        0.0000         0.000   \n",
       "...            ...    ...            ...           ...           ...   \n",
       "49959      576.300      4           1894     2481.0000         0.000   \n",
       "49960      419.000      3           1903        0.0000         0.000   \n",
       "49961       75.000      0           1933     3603.0000         0.000   \n",
       "49963       61.290      0           1884        0.0000         0.000   \n",
       "49965      100.000      1           1847        0.0000         0.000   \n",
       "49967      262.800      3           1415        0.0000         0.000   \n",
       "49969        0.000      0           1371     1111.0000         6.087   \n",
       "49970       90.090      0           1791      718.9000         0.000   \n",
       "49971        0.000      0           1434        0.0000         0.000   \n",
       "49972        9.608      1           1368     2098.0000         0.000   \n",
       "49974        0.000      0           1418        0.0000         0.000   \n",
       "49975       24.050      0           1865     3848.0000         0.000   \n",
       "49978       82.560      0           1416        0.0000         0.000   \n",
       "49979        0.000      0           1793        0.0000         0.000   \n",
       "49980        0.000      0           1760        0.0000         0.000   \n",
       "49981       81.480      0           1872        0.0000         0.000   \n",
       "49983       73.480      0           1881        0.0000         0.000   \n",
       "49984      734.100      5           1889     1826.0000         0.000   \n",
       "49986      100.000      1           1928     1061.0000         0.000   \n",
       "49987        0.000      0           1816        0.0000         0.000   \n",
       "49988        3.700      1           1371        0.0000         0.000   \n",
       "49990       37.120      0           2045     5201.0000         0.000   \n",
       "49991        0.000      0           1893        0.0000         0.000   \n",
       "49992       58.110      0           1889        0.0000         0.000   \n",
       "49993      447.500      4           1380        0.0000         7.574   \n",
       "49994      272.700      2           1399      475.4000        30.100   \n",
       "49996        0.000      0           1859      819.3000         0.000   \n",
       "49997        0.000      0           1380        0.0000         0.000   \n",
       "49998        0.000      0           1869        0.0000         0.000   \n",
       "49999        4.128      0           1888     6668.0000         0.000   \n",
       "\n",
       "       walkDistance  winPlacePerc  \n",
       "1          1434.000        0.6400  \n",
       "3           202.700        0.1667  \n",
       "4            49.750        0.1875  \n",
       "5            34.700        0.0370  \n",
       "7          1089.000        0.7368  \n",
       "8           799.900        0.3704  \n",
       "9            65.670        0.2143  \n",
       "10          868.300        0.3929  \n",
       "11          451.700        0.4043  \n",
       "12         2784.000        0.9286  \n",
       "13         2050.000        0.8750  \n",
       "14         1666.000        0.9000  \n",
       "16         3674.000        0.7308  \n",
       "17         1787.000        0.8211  \n",
       "20         1794.000        0.6383  \n",
       "21          580.100        0.2143  \n",
       "22         1264.000        0.7500  \n",
       "23         2727.000        0.9592  \n",
       "24         3503.000        0.9231  \n",
       "25         2711.000        0.8696  \n",
       "26           15.300        0.1154  \n",
       "27         1933.000        0.7234  \n",
       "29            0.000        0.0000  \n",
       "30          455.500        0.4255  \n",
       "31           93.110        0.0667  \n",
       "32         1240.000        0.5000  \n",
       "34          353.500        0.2222  \n",
       "35          270.700        0.3474  \n",
       "36         1528.000        0.8462  \n",
       "37           60.930        0.0889  \n",
       "...             ...           ...  \n",
       "49959      4343.000        1.0000  \n",
       "49960      2188.000        0.7959  \n",
       "49961      1370.000        0.3571  \n",
       "49963      3033.000        0.7021  \n",
       "49965       306.900        0.2128  \n",
       "49967       499.900        0.5517  \n",
       "49969      1201.000        0.6667  \n",
       "49970      1154.000        0.4565  \n",
       "49971         7.568        0.0000  \n",
       "49972       970.600        0.6800  \n",
       "49974      1094.000        0.6774  \n",
       "49975      1583.000        0.5000  \n",
       "49978        11.850        0.0698  \n",
       "49979       635.200        0.1600  \n",
       "49980      1658.000        0.5000  \n",
       "49981      1019.000        0.1481  \n",
       "49983       113.500        0.0000  \n",
       "49984      4002.000        0.8621  \n",
       "49986      3149.000        0.7826  \n",
       "49987       417.200        0.2759  \n",
       "49988       570.400        0.5000  \n",
       "49990      2132.000        0.7241  \n",
       "49991        70.290        0.0000  \n",
       "49992       520.100        0.7407  \n",
       "49993      2907.000        0.8462  \n",
       "49994      2276.000        0.9570  \n",
       "49996      1936.000        0.8333  \n",
       "49997         7.649        0.0000  \n",
       "49998        78.830        0.0957  \n",
       "49999       870.000        0.5172  \n",
       "\n",
       "[37460 rows x 7 columns]"
      ]
     },
     "execution_count": 82,
     "metadata": {},
     "output_type": "execute_result"
    }
   ],
   "source": [
    "df"
   ]
  },
  {
   "cell_type": "markdown",
   "metadata": {},
   "source": [
    "As discussed in the proposal, when measuring movement tendencies, we will use the matrix of distance per gameTime, which measures the player’s movement distance per game time in the unit of meters per second. \n",
    "\n",
    "The formula for calculating the player’s movement tendency in a game will be:\n",
    "\n",
    "Movement Tendency = (swimDistance + rideDistance + walkDistance) / matchDuration"
   ]
  },
  {
   "cell_type": "code",
   "execution_count": 83,
   "metadata": {
    "scrolled": true
   },
   "outputs": [],
   "source": [
    "def movement_tendency(row):\n",
    "    d = float((row['swimDistance'] + row['rideDistance'] + row['walkDistance']) / row['matchDuration'] * 100)\n",
    "    return d"
   ]
  },
  {
   "cell_type": "markdown",
   "metadata": {},
   "source": [
    "To create easier access to this information, we add a new column to the data frame based on values from other ones."
   ]
  },
  {
   "cell_type": "code",
   "execution_count": 84,
   "metadata": {
    "scrolled": true
   },
   "outputs": [],
   "source": [
    "df['moveTendency'] = df.apply (lambda row: movement_tendency(row), axis=1)"
   ]
  },
  {
   "cell_type": "markdown",
   "metadata": {},
   "source": [
    "After calculating the movement tendency column, we drop more columns for readability."
   ]
  },
  {
   "cell_type": "code",
   "execution_count": 85,
   "metadata": {
    "scrolled": true
   },
   "outputs": [],
   "source": [
    "df = df.drop(columns=['matchDuration', 'rideDistance', 'swimDistance', 'walkDistance'])"
   ]
  },
  {
   "cell_type": "markdown",
   "metadata": {},
   "source": [
    "We will drop any kills above 30 to ensure that hackers do not count toward our model."
   ]
  },
  {
   "cell_type": "code",
   "execution_count": 86,
   "metadata": {
    "scrolled": true
   },
   "outputs": [],
   "source": [
    "df=df[df.kills<=30]"
   ]
  },
  {
   "cell_type": "markdown",
   "metadata": {},
   "source": [
    "The below is a brief describtion of the data frame that we will explore in the following sections."
   ]
  },
  {
   "cell_type": "code",
   "execution_count": 87,
   "metadata": {
    "scrolled": false
   },
   "outputs": [
    {
     "data": {
      "text/html": [
       "<div>\n",
       "<style scoped>\n",
       "    .dataframe tbody tr th:only-of-type {\n",
       "        vertical-align: middle;\n",
       "    }\n",
       "\n",
       "    .dataframe tbody tr th {\n",
       "        vertical-align: top;\n",
       "    }\n",
       "\n",
       "    .dataframe thead th {\n",
       "        text-align: right;\n",
       "    }\n",
       "</style>\n",
       "<table border=\"1\" class=\"dataframe\">\n",
       "  <thead>\n",
       "    <tr style=\"text-align: right;\">\n",
       "      <th></th>\n",
       "      <th>damageDealt</th>\n",
       "      <th>kills</th>\n",
       "      <th>winPlacePerc</th>\n",
       "      <th>moveTendency</th>\n",
       "    </tr>\n",
       "  </thead>\n",
       "  <tbody>\n",
       "    <tr>\n",
       "      <th>count</th>\n",
       "      <td>37460.000000</td>\n",
       "      <td>37460.000000</td>\n",
       "      <td>37460.000000</td>\n",
       "      <td>37460.000000</td>\n",
       "    </tr>\n",
       "    <tr>\n",
       "      <th>mean</th>\n",
       "      <td>130.473654</td>\n",
       "      <td>0.910438</td>\n",
       "      <td>0.474318</td>\n",
       "      <td>114.609095</td>\n",
       "    </tr>\n",
       "    <tr>\n",
       "      <th>std</th>\n",
       "      <td>167.575476</td>\n",
       "      <td>1.501137</td>\n",
       "      <td>0.307571</td>\n",
       "      <td>129.802076</td>\n",
       "    </tr>\n",
       "    <tr>\n",
       "      <th>min</th>\n",
       "      <td>0.000000</td>\n",
       "      <td>0.000000</td>\n",
       "      <td>0.000000</td>\n",
       "      <td>0.000000</td>\n",
       "    </tr>\n",
       "    <tr>\n",
       "      <th>25%</th>\n",
       "      <td>0.000000</td>\n",
       "      <td>0.000000</td>\n",
       "      <td>0.200000</td>\n",
       "      <td>11.098002</td>\n",
       "    </tr>\n",
       "    <tr>\n",
       "      <th>50%</th>\n",
       "      <td>83.200000</td>\n",
       "      <td>0.000000</td>\n",
       "      <td>0.461500</td>\n",
       "      <td>57.497353</td>\n",
       "    </tr>\n",
       "    <tr>\n",
       "      <th>75%</th>\n",
       "      <td>185.400000</td>\n",
       "      <td>1.000000</td>\n",
       "      <td>0.744700</td>\n",
       "      <td>190.938383</td>\n",
       "    </tr>\n",
       "    <tr>\n",
       "      <th>max</th>\n",
       "      <td>2767.000000</td>\n",
       "      <td>22.000000</td>\n",
       "      <td>1.000000</td>\n",
       "      <td>1388.944034</td>\n",
       "    </tr>\n",
       "  </tbody>\n",
       "</table>\n",
       "</div>"
      ],
      "text/plain": [
       "        damageDealt         kills  winPlacePerc  moveTendency\n",
       "count  37460.000000  37460.000000  37460.000000  37460.000000\n",
       "mean     130.473654      0.910438      0.474318    114.609095\n",
       "std      167.575476      1.501137      0.307571    129.802076\n",
       "min        0.000000      0.000000      0.000000      0.000000\n",
       "25%        0.000000      0.000000      0.200000     11.098002\n",
       "50%       83.200000      0.000000      0.461500     57.497353\n",
       "75%      185.400000      1.000000      0.744700    190.938383\n",
       "max     2767.000000     22.000000      1.000000   1388.944034"
      ]
     },
     "execution_count": 87,
     "metadata": {},
     "output_type": "execute_result"
    }
   ],
   "source": [
    "df.describe()"
   ]
  },
  {
   "cell_type": "markdown",
   "metadata": {},
   "source": [
    "## Part 2: Exploratory Data Vizualization\n",
    "\n",
    "First, we need to do some exploratory data visualization, to get a feel for the data. \n",
    "\n",
    "For each column, we plot a histogram to get a feeling about the dataset's shape.\n",
    "We didn't include a scatter matrix in this section as it takes too much runtime to be pratical, and we don't need any particular information from it."
   ]
  },
  {
   "cell_type": "code",
   "execution_count": 88,
   "metadata": {
    "scrolled": true
   },
   "outputs": [
    {
     "data": {
      "image/png": "[encoded data removed]",
      "text/plain": [
       "<Figure size 432x288 with 1 Axes>"
      ]
     },
     "metadata": {
      "needs_background": "light"
     },
     "output_type": "display_data"
    }
   ],
   "source": [
    "df.hist(column='moveTendency', range=[0, 750])\n",
    "f2 = plt.gcf()"
   ]
  },
  {
   "cell_type": "code",
   "execution_count": 89,
   "metadata": {
    "scrolled": true
   },
   "outputs": [
    {
     "data": {
      "image/png": "[encoded data removed]",
      "text/plain": [
       "<Figure size 432x288 with 1 Axes>"
      ]
     },
     "metadata": {
      "needs_background": "light"
     },
     "output_type": "display_data"
    }
   ],
   "source": [
    "df.hist(column='winPlacePerc')\n",
    "f2 = plt.gcf()"
   ]
  },
  {
   "cell_type": "code",
   "execution_count": 90,
   "metadata": {
    "scrolled": true
   },
   "outputs": [
    {
     "data": {
      "image/png": "[encoded data removed]",
      "text/plain": [
       "<Figure size 432x288 with 1 Axes>"
      ]
     },
     "metadata": {
      "needs_background": "light"
     },
     "output_type": "display_data"
    }
   ],
   "source": [
    "df.hist(column='kills', range=[0, 10])\n",
    "f2 = plt.gcf()"
   ]
  },
  {
   "cell_type": "code",
   "execution_count": 91,
   "metadata": {
    "scrolled": true
   },
   "outputs": [
    {
     "data": {
      "image/png": "[encoded data removed]",
      "text/plain": [
       "<Figure size 432x288 with 1 Axes>"
      ]
     },
     "metadata": {
      "needs_background": "light"
     },
     "output_type": "display_data"
    }
   ],
   "source": [
    "df.hist(column='damageDealt', range=[0, 1100])\n",
    "f2 = plt.gcf()"
   ]
  },
  {
   "cell_type": "markdown",
   "metadata": {},
   "source": [
    "## Part 3: Data analysis and result"
   ]
  },
  {
   "cell_type": "markdown",
   "metadata": {},
   "source": [
    "### 3(a) relationship between kills, move distance and possibility to win."
   ]
  },
  {
   "cell_type": "markdown",
   "metadata": {},
   "source": [
    "First we drop damage dealt colume to get rid of abundant data."
   ]
  },
  {
   "cell_type": "code",
   "execution_count": 92,
   "metadata": {
    "scrolled": true
   },
   "outputs": [],
   "source": [
    "df_kill=df.drop(columns=['damageDealt'])"
   ]
  },
  {
   "cell_type": "code",
   "execution_count": 93,
   "metadata": {
    "scrolled": true
   },
   "outputs": [
    {
     "data": {
      "text/html": [
       "<div>\n",
       "<style scoped>\n",
       "    .dataframe tbody tr th:only-of-type {\n",
       "        vertical-align: middle;\n",
       "    }\n",
       "\n",
       "    .dataframe tbody tr th {\n",
       "        vertical-align: top;\n",
       "    }\n",
       "\n",
       "    .dataframe thead th {\n",
       "        text-align: right;\n",
       "    }\n",
       "</style>\n",
       "<table border=\"1\" class=\"dataframe\">\n",
       "  <thead>\n",
       "    <tr style=\"text-align: right;\">\n",
       "      <th></th>\n",
       "      <th>kills</th>\n",
       "      <th>winPlacePerc</th>\n",
       "      <th>moveTendency</th>\n",
       "    </tr>\n",
       "  </thead>\n",
       "  <tbody>\n",
       "    <tr>\n",
       "      <th>1</th>\n",
       "      <td>0</td>\n",
       "      <td>0.6400</td>\n",
       "      <td>81.319330</td>\n",
       "    </tr>\n",
       "    <tr>\n",
       "      <th>3</th>\n",
       "      <td>0</td>\n",
       "      <td>0.1667</td>\n",
       "      <td>14.115599</td>\n",
       "    </tr>\n",
       "    <tr>\n",
       "      <th>4</th>\n",
       "      <td>1</td>\n",
       "      <td>0.1875</td>\n",
       "      <td>3.493680</td>\n",
       "    </tr>\n",
       "    <tr>\n",
       "      <th>5</th>\n",
       "      <td>1</td>\n",
       "      <td>0.0370</td>\n",
       "      <td>2.487455</td>\n",
       "    </tr>\n",
       "    <tr>\n",
       "      <th>7</th>\n",
       "      <td>0</td>\n",
       "      <td>0.7368</td>\n",
       "      <td>157.244535</td>\n",
       "    </tr>\n",
       "  </tbody>\n",
       "</table>\n",
       "</div>"
      ],
      "text/plain": [
       "   kills  winPlacePerc  moveTendency\n",
       "1      0        0.6400     81.319330\n",
       "3      0        0.1667     14.115599\n",
       "4      1        0.1875      3.493680\n",
       "5      1        0.0370      2.487455\n",
       "7      0        0.7368    157.244535"
      ]
     },
     "execution_count": 93,
     "metadata": {},
     "output_type": "execute_result"
    }
   ],
   "source": [
    "df_kill.head(5)"
   ]
  },
  {
   "cell_type": "markdown",
   "metadata": {},
   "source": [
    "By unique(), we can see all the kills number in general. "
   ]
  },
  {
   "cell_type": "code",
   "execution_count": 94,
   "metadata": {
    "scrolled": true
   },
   "outputs": [
    {
     "data": {
      "text/plain": [
       "array([ 0,  1,  4,  2,  9,  3,  5,  6,  8, 13,  7, 12, 21, 14, 11, 17, 10,\n",
       "       15, 16, 22])"
      ]
     },
     "execution_count": 94,
     "metadata": {},
     "output_type": "execute_result"
    }
   ],
   "source": [
    "df_kill['kills'].unique()"
   ]
  },
  {
   "cell_type": "markdown",
   "metadata": {},
   "source": [
    "check the types and length of df_kills"
   ]
  },
  {
   "cell_type": "code",
   "execution_count": 95,
   "metadata": {
    "scrolled": true
   },
   "outputs": [],
   "source": [
    "df_kill['kills'] = df_kill['kills'].astype(np.int64)"
   ]
  },
  {
   "cell_type": "code",
   "execution_count": 96,
   "metadata": {
    "scrolled": true
   },
   "outputs": [],
   "source": [
    "df_kill['moveTendency']=df_kill['moveTendency'].astype(np.float64)"
   ]
  },
  {
   "cell_type": "code",
   "execution_count": 97,
   "metadata": {
    "scrolled": true
   },
   "outputs": [],
   "source": [
    "df_kill['winPlacePerc']=df_kill['winPlacePerc'].astype(np.float64)"
   ]
  },
  {
   "cell_type": "code",
   "execution_count": 98,
   "metadata": {
    "scrolled": true
   },
   "outputs": [],
   "source": [
    "len_kill=len(df_kill)\n"
   ]
  },
  {
   "cell_type": "markdown",
   "metadata": {},
   "source": [
    "Plot the data, using scatter_matrix, from Pandas. Assign it to a variable called 'fig'."
   ]
  },
  {
   "cell_type": "code",
   "execution_count": 99,
   "metadata": {
    "scrolled": true
   },
   "outputs": [
    {
     "data": {
      "image/png": "[encoded data removed]",
      "text/plain": [
       "<Figure size 432x288 with 9 Axes>"
      ]
     },
     "metadata": {
      "needs_background": "light"
     },
     "output_type": "display_data"
    }
   ],
   "source": [
    "fig=pd.plotting.scatter_matrix(df_kill)"
   ]
  },
  {
   "cell_type": "markdown",
   "metadata": {},
   "source": [
    "Kills distribution"
   ]
  },
  {
   "cell_type": "code",
   "execution_count": 100,
   "metadata": {
    "scrolled": true
   },
   "outputs": [
    {
     "data": {
      "image/png": "[encoded data removed]",
      "text/plain": [
       "<Figure size 432x288 with 1 Axes>"
      ]
     },
     "metadata": {
      "needs_background": "light"
     },
     "output_type": "display_data"
    }
   ],
   "source": [
    "df_kill['kills'].value_counts().plot(kind='bar')\n",
    "f1 = plt.gcf()"
   ]
  },
  {
   "cell_type": "markdown",
   "metadata": {},
   "source": [
    "Now, clearly it is not normal distribution, but since it is PUBG, lots of people does not need to kill to win. So it is ok if we just keep it like that."
   ]
  },
  {
   "cell_type": "markdown",
   "metadata": {},
   "source": [
    "Next, we use pivot table to find out the correlation among kills, moveTendency and win rate."
   ]
  },
  {
   "cell_type": "code",
   "execution_count": 101,
   "metadata": {
    "scrolled": true
   },
   "outputs": [],
   "source": [
    "pv=pd.pivot_table(df_kill,values='winPlacePerc',index=['kills','moveTendency'])\n"
   ]
  },
  {
   "cell_type": "markdown",
   "metadata": {},
   "source": [
    "Visualize the pivot table"
   ]
  },
  {
   "cell_type": "code",
   "execution_count": 102,
   "metadata": {
    "scrolled": true
   },
   "outputs": [
    {
     "data": {
      "text/html": [
       "<div>\n",
       "<style scoped>\n",
       "    .dataframe tbody tr th:only-of-type {\n",
       "        vertical-align: middle;\n",
       "    }\n",
       "\n",
       "    .dataframe tbody tr th {\n",
       "        vertical-align: top;\n",
       "    }\n",
       "\n",
       "    .dataframe thead th {\n",
       "        text-align: right;\n",
       "    }\n",
       "</style>\n",
       "<table border=\"1\" class=\"dataframe\">\n",
       "  <thead>\n",
       "    <tr style=\"text-align: right;\">\n",
       "      <th></th>\n",
       "      <th></th>\n",
       "      <th>winPlacePerc</th>\n",
       "    </tr>\n",
       "    <tr>\n",
       "      <th>kills</th>\n",
       "      <th>moveTendency</th>\n",
       "      <th></th>\n",
       "    </tr>\n",
       "  </thead>\n",
       "  <tbody>\n",
       "    <tr>\n",
       "      <th rowspan=\"30\" valign=\"top\">0</th>\n",
       "      <th>0.000000</th>\n",
       "      <td>0.03758</td>\n",
       "    </tr>\n",
       "    <tr>\n",
       "      <th>0.000021</th>\n",
       "      <td>0.07410</td>\n",
       "    </tr>\n",
       "    <tr>\n",
       "      <th>0.001184</th>\n",
       "      <td>0.47920</td>\n",
       "    </tr>\n",
       "    <tr>\n",
       "      <th>0.001878</th>\n",
       "      <td>0.25930</td>\n",
       "    </tr>\n",
       "    <tr>\n",
       "      <th>0.002004</th>\n",
       "      <td>0.12770</td>\n",
       "    </tr>\n",
       "    <tr>\n",
       "      <th>0.002159</th>\n",
       "      <td>0.14810</td>\n",
       "    </tr>\n",
       "    <tr>\n",
       "      <th>0.002255</th>\n",
       "      <td>0.11110</td>\n",
       "    </tr>\n",
       "    <tr>\n",
       "      <th>0.002976</th>\n",
       "      <td>0.07410</td>\n",
       "    </tr>\n",
       "    <tr>\n",
       "      <th>0.003290</th>\n",
       "      <td>0.18520</td>\n",
       "    </tr>\n",
       "    <tr>\n",
       "      <th>0.004434</th>\n",
       "      <td>0.01060</td>\n",
       "    </tr>\n",
       "    <tr>\n",
       "      <th>0.007087</th>\n",
       "      <td>0.36170</td>\n",
       "    </tr>\n",
       "    <tr>\n",
       "      <th>0.007532</th>\n",
       "      <td>0.20000</td>\n",
       "    </tr>\n",
       "    <tr>\n",
       "      <th>0.008179</th>\n",
       "      <td>0.07690</td>\n",
       "    </tr>\n",
       "    <tr>\n",
       "      <th>0.008184</th>\n",
       "      <td>0.03700</td>\n",
       "    </tr>\n",
       "    <tr>\n",
       "      <th>0.009749</th>\n",
       "      <td>0.13980</td>\n",
       "    </tr>\n",
       "    <tr>\n",
       "      <th>0.009846</th>\n",
       "      <td>0.10340</td>\n",
       "    </tr>\n",
       "    <tr>\n",
       "      <th>0.011033</th>\n",
       "      <td>0.12370</td>\n",
       "    </tr>\n",
       "    <tr>\n",
       "      <th>0.011621</th>\n",
       "      <td>0.46150</td>\n",
       "    </tr>\n",
       "    <tr>\n",
       "      <th>0.012964</th>\n",
       "      <td>0.07140</td>\n",
       "    </tr>\n",
       "    <tr>\n",
       "      <th>0.013290</th>\n",
       "      <td>0.03450</td>\n",
       "    </tr>\n",
       "    <tr>\n",
       "      <th>0.013679</th>\n",
       "      <td>0.15790</td>\n",
       "    </tr>\n",
       "    <tr>\n",
       "      <th>0.014189</th>\n",
       "      <td>0.10870</td>\n",
       "    </tr>\n",
       "    <tr>\n",
       "      <th>0.014553</th>\n",
       "      <td>0.03700</td>\n",
       "    </tr>\n",
       "    <tr>\n",
       "      <th>0.014660</th>\n",
       "      <td>0.53850</td>\n",
       "    </tr>\n",
       "    <tr>\n",
       "      <th>0.014799</th>\n",
       "      <td>0.43480</td>\n",
       "    </tr>\n",
       "    <tr>\n",
       "      <th>0.014823</th>\n",
       "      <td>0.28570</td>\n",
       "    </tr>\n",
       "    <tr>\n",
       "      <th>0.014886</th>\n",
       "      <td>0.83330</td>\n",
       "    </tr>\n",
       "    <tr>\n",
       "      <th>0.015152</th>\n",
       "      <td>0.04760</td>\n",
       "    </tr>\n",
       "    <tr>\n",
       "      <th>0.015828</th>\n",
       "      <td>0.50000</td>\n",
       "    </tr>\n",
       "    <tr>\n",
       "      <th>0.015918</th>\n",
       "      <td>0.04170</td>\n",
       "    </tr>\n",
       "    <tr>\n",
       "      <th>...</th>\n",
       "      <th>...</th>\n",
       "      <td>...</td>\n",
       "    </tr>\n",
       "    <tr>\n",
       "      <th rowspan=\"3\" valign=\"top\">11</th>\n",
       "      <th>347.478368</th>\n",
       "      <td>0.89580</td>\n",
       "    </tr>\n",
       "    <tr>\n",
       "      <th>489.300412</th>\n",
       "      <td>1.00000</td>\n",
       "    </tr>\n",
       "    <tr>\n",
       "      <th>648.705758</th>\n",
       "      <td>0.92860</td>\n",
       "    </tr>\n",
       "    <tr>\n",
       "      <th rowspan=\"8\" valign=\"top\">12</th>\n",
       "      <th>217.101147</th>\n",
       "      <td>0.77780</td>\n",
       "    </tr>\n",
       "    <tr>\n",
       "      <th>240.647285</th>\n",
       "      <td>0.78570</td>\n",
       "    </tr>\n",
       "    <tr>\n",
       "      <th>261.399177</th>\n",
       "      <td>0.89900</td>\n",
       "    </tr>\n",
       "    <tr>\n",
       "      <th>301.320655</th>\n",
       "      <td>0.91490</td>\n",
       "    </tr>\n",
       "    <tr>\n",
       "      <th>318.756699</th>\n",
       "      <td>1.00000</td>\n",
       "    </tr>\n",
       "    <tr>\n",
       "      <th>399.946581</th>\n",
       "      <td>0.93620</td>\n",
       "    </tr>\n",
       "    <tr>\n",
       "      <th>409.734728</th>\n",
       "      <td>0.96430</td>\n",
       "    </tr>\n",
       "    <tr>\n",
       "      <th>470.840384</th>\n",
       "      <td>0.89290</td>\n",
       "    </tr>\n",
       "    <tr>\n",
       "      <th rowspan=\"7\" valign=\"top\">13</th>\n",
       "      <th>185.243553</th>\n",
       "      <td>1.00000</td>\n",
       "    </tr>\n",
       "    <tr>\n",
       "      <th>247.666667</th>\n",
       "      <td>1.00000</td>\n",
       "    </tr>\n",
       "    <tr>\n",
       "      <th>272.587719</th>\n",
       "      <td>1.00000</td>\n",
       "    </tr>\n",
       "    <tr>\n",
       "      <th>282.377696</th>\n",
       "      <td>1.00000</td>\n",
       "    </tr>\n",
       "    <tr>\n",
       "      <th>285.911402</th>\n",
       "      <td>1.00000</td>\n",
       "    </tr>\n",
       "    <tr>\n",
       "      <th>307.019438</th>\n",
       "      <td>0.96150</td>\n",
       "    </tr>\n",
       "    <tr>\n",
       "      <th>462.212240</th>\n",
       "      <td>1.00000</td>\n",
       "    </tr>\n",
       "    <tr>\n",
       "      <th rowspan=\"3\" valign=\"top\">14</th>\n",
       "      <th>117.032164</th>\n",
       "      <td>0.00000</td>\n",
       "    </tr>\n",
       "    <tr>\n",
       "      <th>130.258490</th>\n",
       "      <td>1.00000</td>\n",
       "    </tr>\n",
       "    <tr>\n",
       "      <th>138.375973</th>\n",
       "      <td>0.22220</td>\n",
       "    </tr>\n",
       "    <tr>\n",
       "      <th rowspan=\"3\" valign=\"top\">15</th>\n",
       "      <th>0.967670</th>\n",
       "      <td>0.20000</td>\n",
       "    </tr>\n",
       "    <tr>\n",
       "      <th>28.534002</th>\n",
       "      <td>0.85710</td>\n",
       "    </tr>\n",
       "    <tr>\n",
       "      <th>340.635268</th>\n",
       "      <td>1.00000</td>\n",
       "    </tr>\n",
       "    <tr>\n",
       "      <th rowspan=\"2\" valign=\"top\">16</th>\n",
       "      <th>390.957731</th>\n",
       "      <td>0.92860</td>\n",
       "    </tr>\n",
       "    <tr>\n",
       "      <th>466.539510</th>\n",
       "      <td>0.71430</td>\n",
       "    </tr>\n",
       "    <tr>\n",
       "      <th rowspan=\"2\" valign=\"top\">17</th>\n",
       "      <th>173.535792</th>\n",
       "      <td>1.00000</td>\n",
       "    </tr>\n",
       "    <tr>\n",
       "      <th>239.816810</th>\n",
       "      <td>1.00000</td>\n",
       "    </tr>\n",
       "    <tr>\n",
       "      <th>21</th>\n",
       "      <th>342.223837</th>\n",
       "      <td>1.00000</td>\n",
       "    </tr>\n",
       "    <tr>\n",
       "      <th>22</th>\n",
       "      <th>313.212573</th>\n",
       "      <td>0.96150</td>\n",
       "    </tr>\n",
       "  </tbody>\n",
       "</table>\n",
       "<p>36579 rows × 1 columns</p>\n",
       "</div>"
      ],
      "text/plain": [
       "                    winPlacePerc\n",
       "kills moveTendency              \n",
       "0     0.000000           0.03758\n",
       "      0.000021           0.07410\n",
       "      0.001184           0.47920\n",
       "      0.001878           0.25930\n",
       "      0.002004           0.12770\n",
       "      0.002159           0.14810\n",
       "      0.002255           0.11110\n",
       "      0.002976           0.07410\n",
       "      0.003290           0.18520\n",
       "      0.004434           0.01060\n",
       "      0.007087           0.36170\n",
       "      0.007532           0.20000\n",
       "      0.008179           0.07690\n",
       "      0.008184           0.03700\n",
       "      0.009749           0.13980\n",
       "      0.009846           0.10340\n",
       "      0.011033           0.12370\n",
       "      0.011621           0.46150\n",
       "      0.012964           0.07140\n",
       "      0.013290           0.03450\n",
       "      0.013679           0.15790\n",
       "      0.014189           0.10870\n",
       "      0.014553           0.03700\n",
       "      0.014660           0.53850\n",
       "      0.014799           0.43480\n",
       "      0.014823           0.28570\n",
       "      0.014886           0.83330\n",
       "      0.015152           0.04760\n",
       "      0.015828           0.50000\n",
       "      0.015918           0.04170\n",
       "...                          ...\n",
       "11    347.478368         0.89580\n",
       "      489.300412         1.00000\n",
       "      648.705758         0.92860\n",
       "12    217.101147         0.77780\n",
       "      240.647285         0.78570\n",
       "      261.399177         0.89900\n",
       "      301.320655         0.91490\n",
       "      318.756699         1.00000\n",
       "      399.946581         0.93620\n",
       "      409.734728         0.96430\n",
       "      470.840384         0.89290\n",
       "13    185.243553         1.00000\n",
       "      247.666667         1.00000\n",
       "      272.587719         1.00000\n",
       "      282.377696         1.00000\n",
       "      285.911402         1.00000\n",
       "      307.019438         0.96150\n",
       "      462.212240         1.00000\n",
       "14    117.032164         0.00000\n",
       "      130.258490         1.00000\n",
       "      138.375973         0.22220\n",
       "15    0.967670           0.20000\n",
       "      28.534002          0.85710\n",
       "      340.635268         1.00000\n",
       "16    390.957731         0.92860\n",
       "      466.539510         0.71430\n",
       "17    173.535792         1.00000\n",
       "      239.816810         1.00000\n",
       "21    342.223837         1.00000\n",
       "22    313.212573         0.96150\n",
       "\n",
       "[36579 rows x 1 columns]"
      ]
     },
     "execution_count": 102,
     "metadata": {},
     "output_type": "execute_result"
    }
   ],
   "source": [
    "pv"
   ]
  },
  {
   "cell_type": "markdown",
   "metadata": {},
   "source": [
    "Now, we need to make a linear model using OLS to predict relation between kills and win rate."
   ]
  },
  {
   "cell_type": "code",
   "execution_count": 103,
   "metadata": {},
   "outputs": [],
   "source": [
    "outcome_1, predictors_1=patsy.dmatrices('winPlacePerc~kills',df_kill)\n",
    "mod_1=sm.OLS(outcome_1, predictors_1)\n",
    "res_1=mod_1.fit()"
   ]
  },
  {
   "cell_type": "code",
   "execution_count": 104,
   "metadata": {},
   "outputs": [
    {
     "name": "stdout",
     "output_type": "stream",
     "text": [
      "                            OLS Regression Results                            \n",
      "==============================================================================\n",
      "Dep. Variable:           winPlacePerc   R-squared:                       0.182\n",
      "Model:                            OLS   Adj. R-squared:                  0.182\n",
      "Method:                 Least Squares   F-statistic:                     8350.\n",
      "Date:                Tue, 19 Mar 2019   Prob (F-statistic):               0.00\n",
      "Time:                        23:36:55   Log-Likelihood:                -5216.6\n",
      "No. Observations:               37460   AIC:                         1.044e+04\n",
      "Df Residuals:                   37458   BIC:                         1.045e+04\n",
      "Df Model:                           1                                         \n",
      "Covariance Type:            nonrobust                                         \n",
      "==============================================================================\n",
      "                 coef    std err          t      P>|t|      [0.025      0.975]\n",
      "------------------------------------------------------------------------------\n",
      "Intercept      0.3947      0.002    234.829      0.000       0.391       0.398\n",
      "kills          0.0875      0.001     91.379      0.000       0.086       0.089\n",
      "==============================================================================\n",
      "Omnibus:                     5951.190   Durbin-Watson:                   1.998\n",
      "Prob(Omnibus):                  0.000   Jarque-Bera (JB):             1463.202\n",
      "Skew:                           0.143   Prob(JB):                         0.00\n",
      "Kurtosis:                       2.075   Cond. No.                         2.28\n",
      "==============================================================================\n",
      "\n",
      "Warnings:\n",
      "[1] Standard Errors assume that the covariance matrix of the errors is correctly specified.\n"
     ]
    }
   ],
   "source": [
    "print(res_1.summary())"
   ]
  },
  {
   "cell_type": "markdown",
   "metadata": {},
   "source": [
    "Also, we can use a scatter plot to show the win rate-kills relationship."
   ]
  },
  {
   "cell_type": "code",
   "execution_count": 105,
   "metadata": {},
   "outputs": [
    {
     "data": {
      "image/png": "[encoded data removed]",
      "text/plain": [
       "<Figure size 432x288 with 1 Axes>"
      ]
     },
     "metadata": {
      "needs_background": "light"
     },
     "output_type": "display_data"
    }
   ],
   "source": [
    "a1, b1 = np.polyfit(df_kill.kills, df_kill.winPlacePerc, deg=1)\n",
    "pred_kill=(a1*np.arange(0,22)+b1)/pred_kill.max()\n",
    "df_kill.plot.scatter(x='kills', y='winPlacePerc')\n",
    "plt.plot(np.arange(0, 22), pred_kill, color='r')\n",
    "f1 = plt.gcf()\n"
   ]
  },
  {
   "cell_type": "markdown",
   "metadata": {},
   "source": [
    "##### conclusion1:By the graph and table, we can see that more kills results in higher win rate."
   ]
  },
  {
   "cell_type": "markdown",
   "metadata": {},
   "source": [
    "we need to make a linear model using OLS to predict relation between move tendency and win rate."
   ]
  },
  {
   "cell_type": "code",
   "execution_count": 106,
   "metadata": {},
   "outputs": [],
   "source": [
    "outcome_2, predictors_2=patsy.dmatrices('winPlacePerc~moveTendency',df_kill)\n",
    "mod_2=sm.OLS(outcome_2, predictors_2)\n",
    "res_2=mod_2.fit()"
   ]
  },
  {
   "cell_type": "code",
   "execution_count": 107,
   "metadata": {},
   "outputs": [
    {
     "name": "stdout",
     "output_type": "stream",
     "text": [
      "                            OLS Regression Results                            \n",
      "==============================================================================\n",
      "Dep. Variable:           winPlacePerc   R-squared:                       0.533\n",
      "Model:                            OLS   Adj. R-squared:                  0.533\n",
      "Method:                 Least Squares   F-statistic:                 4.270e+04\n",
      "Date:                Tue, 19 Mar 2019   Prob (F-statistic):               0.00\n",
      "Time:                        23:36:56   Log-Likelihood:                 5262.5\n",
      "No. Observations:               37460   AIC:                        -1.052e+04\n",
      "Df Residuals:                   37458   BIC:                        -1.050e+04\n",
      "Df Model:                           1                                         \n",
      "Covariance Type:            nonrobust                                         \n",
      "================================================================================\n",
      "                   coef    std err          t      P>|t|      [0.025      0.975]\n",
      "--------------------------------------------------------------------------------\n",
      "Intercept        0.2761      0.001    190.522      0.000       0.273       0.279\n",
      "moveTendency     0.0017   8.37e-06    206.629      0.000       0.002       0.002\n",
      "==============================================================================\n",
      "Omnibus:                      101.582   Durbin-Watson:                   1.993\n",
      "Prob(Omnibus):                  0.000   Jarque-Bera (JB):              120.383\n",
      "Skew:                           0.065   Prob(JB):                     7.23e-27\n",
      "Kurtosis:                       3.245   Cond. No.                         231.\n",
      "==============================================================================\n",
      "\n",
      "Warnings:\n",
      "[1] Standard Errors assume that the covariance matrix of the errors is correctly specified.\n"
     ]
    }
   ],
   "source": [
    "print(res_2.summary())"
   ]
  },
  {
   "cell_type": "code",
   "execution_count": 108,
   "metadata": {},
   "outputs": [
    {
     "data": {
      "image/png": "[encoded data removed]",
      "text/plain": [
       "<Figure size 432x288 with 1 Axes>"
      ]
     },
     "metadata": {
      "needs_background": "light"
     },
     "output_type": "display_data"
    }
   ],
   "source": [
    "a2, b2 = np.polyfit(df_kill.moveTendency, df_kill.winPlacePerc, deg=1)\n",
    "pred_move=(a2*np.arange(0,1389)+b2)/df['moveTendency'].max()\n",
    "df_kill.plot.scatter(x='moveTendency', y='winPlacePerc')\n",
    "plt.plot(np.arange(0, 1389), pred_move, color='r')\n",
    "f1 = plt.gcf()\n",
    "\n"
   ]
  },
  {
   "cell_type": "markdown",
   "metadata": {},
   "source": [
    "###### conclusion 2: from above table and graph, we can see that move tendency does not affect win rate that much."
   ]
  }
 ],
 "metadata": {
  "kernelspec": {
   "display_name": "Python 3",
   "language": "python",
   "name": "python3"
  },
  "language_info": {
   "codemirror_mode": {
    "name": "ipython",
    "version": 3
   },
   "file_extension": ".py",
   "mimetype": "text/x-python",
   "name": "python",
   "nbconvert_exporter": "python",
   "pygments_lexer": "ipython3",
   "version": "3.7.1"
  }
 },
 "nbformat": 4,
 "nbformat_minor": 2
}
